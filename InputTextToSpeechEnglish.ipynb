{
 "cells": [
  {
   "cell_type": "code",
   "execution_count": null,
   "id": "69867894-7f53-41bd-ab47-1a72c0d6ea3f",
   "metadata": {},
   "outputs": [],
   "source": [
    "from gtts import gTTS\n",
    "import os\n",
    "\n",
    "def get_user_input():\n",
    "    text = input(\"Enter the text you want to convert to speech: \")\n",
    "    return text\n",
    "\n",
    "def save_audio(text, filename):\n",
    "    language = 'en'\n",
    "    myobj = gTTS(text=text, lang=language, slow=False)\n",
    "    myobj.save(filename)\n",
    "\n",
    "def play_audio(filename):\n",
    "    os.system(f\"start {filename}\")\n",
    "\n",
    "if __name__ == '__main__':\n",
    "    user_text = get_user_input()\n",
    "    filename = \"converted_audio.mp3\"  # Default filename\n",
    "    save_audio(user_text, filename)\n",
    "    play_audio(filename)\n"
   ]
  },
  {
   "cell_type": "code",
   "execution_count": null,
   "id": "046d66eb-4bd4-4691-971c-4f38c01af953",
   "metadata": {},
   "outputs": [],
   "source": []
  }
 ],
 "metadata": {
  "kernelspec": {
   "display_name": "Python 3 (ipykernel)",
   "language": "python",
   "name": "python3"
  },
  "language_info": {
   "codemirror_mode": {
    "name": "ipython",
    "version": 3
   },
   "file_extension": ".py",
   "mimetype": "text/x-python",
   "name": "python",
   "nbconvert_exporter": "python",
   "pygments_lexer": "ipython3",
   "version": "3.11.5"
  }
 },
 "nbformat": 4,
 "nbformat_minor": 5
}
