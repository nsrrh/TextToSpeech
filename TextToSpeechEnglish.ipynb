{
 "cells": [
  {
   "cell_type": "code",
   "execution_count": 1,
   "id": "42cfee65-9fb9-4c29-a421-97f0b56f5d06",
   "metadata": {},
   "outputs": [],
   "source": [
    "# English Translation"
   ]
  },
  {
   "cell_type": "code",
   "execution_count": 4,
   "id": "cf23b815-d959-4a2d-a1f1-80c1e801a623",
   "metadata": {},
   "outputs": [
    {
     "data": {
      "text/plain": [
       "0"
      ]
     },
     "execution_count": 4,
     "metadata": {},
     "output_type": "execute_result"
    }
   ],
   "source": [
    "# Import the required module for text \n",
    "# to speech conversion\n",
    "from gtts import gTTS\n",
    "\n",
    "# This module is imported so that we can \n",
    "# play the converted audio\n",
    "import os\n",
    "\n",
    "# The text that you want to convert to audio\n",
    "mytext = 'Welcome to my github! i am a student at ite college west, studying artificial intelligence applications. i want to make the most out of my final year and give my best shot, so that i will get the opportunity to study cybersecurity and digital forensics at a polytechnic.'\n",
    "\n",
    "# Language in which you want to convert\n",
    "language = 'en'\n",
    "\n",
    "myobj = gTTS(text=mytext, lang=language, slow=False)\n",
    "\n",
    "# Saving the converted audio in a mp3 file named\n",
    "# welcome \n",
    "myobj.save(\"EnglishSpeech.mp3\")\n",
    "\n",
    "# Playing the converted file\n",
    "os.system(\"start EnglishSpeech.mp3\")"
   ]
  },
  {
   "cell_type": "code",
   "execution_count": null,
   "id": "4edde758-86f1-4a54-b635-7ca20c1d442e",
   "metadata": {},
   "outputs": [],
   "source": []
  }
 ],
 "metadata": {
  "kernelspec": {
   "display_name": "Python 3 (ipykernel)",
   "language": "python",
   "name": "python3"
  },
  "language_info": {
   "codemirror_mode": {
    "name": "ipython",
    "version": 3
   },
   "file_extension": ".py",
   "mimetype": "text/x-python",
   "name": "python",
   "nbconvert_exporter": "python",
   "pygments_lexer": "ipython3",
   "version": "3.11.5"
  }
 },
 "nbformat": 4,
 "nbformat_minor": 5
}
