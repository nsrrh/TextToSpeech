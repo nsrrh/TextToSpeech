{
 "cells": [
  {
   "cell_type": "code",
   "execution_count": null,
   "id": "d96b9fa3-a69b-4d96-b1c9-f3c7fe98d252",
   "metadata": {},
   "outputs": [],
   "source": [
    "from gtts import gTTS\n",
    "import os\n",
    "\n",
    "def get_user_input():\n",
    "    text = input(\"Enter the text you want to convert to speech: \")\n",
    "    return text\n",
    "\n",
    "def save_audio(text, filename):\n",
    "    language = 'ms'\n",
    "    myobj = gTTS(text=text, lang=language, slow=False)\n",
    "    myobj.save(filename)\n",
    "\n",
    "def play_audio(filename):\n",
    "    os.system(f\"start {filename}\")\n",
    "\n",
    "if __name__ == '__main__':\n",
    "    user_text = get_user_input()\n",
    "    filename = \"converted_audio.mp3\"  # Default filename\n",
    "    save_audio(user_text, filename)\n",
    "    play_audio(filename)"
   ]
  },
  {
   "cell_type": "code",
   "execution_count": null,
   "id": "107e5e0b-23dc-4e1d-bdbb-8e94c5388b4c",
   "metadata": {},
   "outputs": [],
   "source": []
  }
 ],
 "metadata": {
  "kernelspec": {
   "display_name": "Python 3 (ipykernel)",
   "language": "python",
   "name": "python3"
  },
  "language_info": {
   "codemirror_mode": {
    "name": "ipython",
    "version": 3
   },
   "file_extension": ".py",
   "mimetype": "text/x-python",
   "name": "python",
   "nbconvert_exporter": "python",
   "pygments_lexer": "ipython3",
   "version": "3.11.5"
  }
 },
 "nbformat": 4,
 "nbformat_minor": 5
}
