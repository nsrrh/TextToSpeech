{
 "cells": [
  {
   "cell_type": "code",
   "execution_count": null,
   "id": "8854ddce-f4eb-4721-8d9c-4fb3a5e3932d",
   "metadata": {},
   "outputs": [],
   "source": [
    "# Malay Translation"
   ]
  },
  {
   "cell_type": "code",
   "execution_count": 9,
   "id": "f50061d5-b0ca-441b-a504-d7bcfb24ac48",
   "metadata": {},
   "outputs": [
    {
     "data": {
      "text/plain": [
       "0"
      ]
     },
     "execution_count": 9,
     "metadata": {},
     "output_type": "execute_result"
    }
   ],
   "source": [
    " # Text to speech conversion\n",
    "from gtts import gTTS\n",
    "\n",
    "# This module is imported so that we can \n",
    "# play the converted audio\n",
    "import os\n",
    "\n",
    "# The text that you want to convert to audio\n",
    "mytext = 'Selamat Datang ke github! saya seorang pelajar di institut pendidikan teknikal, mempelajari aplikasi kecerdasan. saya ingin membuat yang terbaik untuk tahun terakhir saya di sini, supaya saya berpeluang untuk belajar keselamatan siber dan digital forensik di sebuah politeknik'\n",
    "\n",
    "# Language in which you want to convert\n",
    "language = 'ms'\n",
    "\n",
    "myobj = gTTS(text=mytext, lang=language, slow=False)\n",
    "\n",
    "# Saving the converted audio in a mp3 file named\n",
    "# welcome \n",
    "myobj.save(\"MalaySpeech.mp3\")\n",
    "\n",
    "# Playing the converted file\n",
    "os.system(\"start MalaySpeech.mp3\")"
   ]
  },
  {
   "cell_type": "code",
   "execution_count": null,
   "id": "3e878711-c01b-42ba-ab30-b79fbd6173f7",
   "metadata": {},
   "outputs": [],
   "source": []
  }
 ],
 "metadata": {
  "kernelspec": {
   "display_name": "Python 3 (ipykernel)",
   "language": "python",
   "name": "python3"
  },
  "language_info": {
   "codemirror_mode": {
    "name": "ipython",
    "version": 3
   },
   "file_extension": ".py",
   "mimetype": "text/x-python",
   "name": "python",
   "nbconvert_exporter": "python",
   "pygments_lexer": "ipython3",
   "version": "3.11.5"
  }
 },
 "nbformat": 4,
 "nbformat_minor": 5
}
